{
  "nbformat": 4,
  "nbformat_minor": 0,
  "metadata": {
    "colab": {
      "provenance": []
    },
    "kernelspec": {
      "name": "python3",
      "display_name": "Python 3"
    }
  },
  "cells": [
    {
      "cell_type": "markdown",
      "metadata": {
        "id": "VPUFDnPuIEeh"
      },
      "source": [
        "**Names:** Govardhan Digumurthi\n",
        "\n",
        "---\n",
        "\n"
      ]
    },
    {
      "cell_type": "code",
      "metadata": {
        "id": "C8cGhHPA3Ghs",
        "outputId": "4ed0d0de-3f7e-4a64-fd8f-17d6b0a279e9",
        "colab": {
          "base_uri": "https://localhost:8080/",
          "height": 51
        }
      },
      "source": [
        "import sys\n",
        "!pip install pyspark\n",
        "from pyspark import SparkContext, SparkConf\n",
        "import matplotlib.pyplot as plt\n",
        "sc = SparkContext(\"local\",\"Project3-K-means++\") #Importing all the libraries required for this project"
      ],
      "execution_count": null,
      "outputs": [
        {
          "output_type": "stream",
          "text": [
            "Requirement already satisfied: pyspark in /usr/local/lib/python3.6/dist-packages (3.0.1)\n",
            "Requirement already satisfied: py4j==0.10.9 in /usr/local/lib/python3.6/dist-packages (from pyspark) (0.10.9)\n"
          ],
          "name": "stdout"
        }
      ]
    },
    {
      "cell_type": "code",
      "metadata": {
        "id": "-VOZRmrh3JKQ",
        "outputId": "1a542c35-d385-40ef-e946-da8b89836513",
        "colab": {
          "base_uri": "https://localhost:8080/",
          "height": 34
        }
      },
      "source": [
        "#This should be used only when running this on google colab\n",
        "from google.colab import drive\n",
        "drive.mount('/content/gdrive')"
      ],
      "execution_count": null,
      "outputs": [
        {
          "output_type": "stream",
          "text": [
            "Drive already mounted at /content/gdrive; to attempt to forcibly remount, call drive.mount(\"/content/gdrive\", force_remount=True).\n"
          ],
          "name": "stdout"
        }
      ]
    },
    {
      "cell_type": "code",
      "metadata": {
        "id": "-v3GY5tJ3Kob"
      },
      "source": [
        "#import the input file. Please change the path as per your computer requirements\n",
        "file1 = '/content/gdrive/My Drive/CS5683/data.txt'\n",
        "fileRDD = sc.textFile(file1, minPartitions=20) #I have parallelized the operation"
      ],
      "execution_count": null,
      "outputs": []
    },
    {
      "cell_type": "code",
      "metadata": {
        "id": "3DQxRZU23L2a"
      },
      "source": [
        "items = fileRDD.map(lambda line:line.split())#To split each line into individual number\n",
        "\n",
        "data = items.map(lambda x: [float(i) for i in x]).zipWithIndex().map(lambda x:(x[1],x[0])) # Added an identity number for each row of input data"
      ],
      "execution_count": null,
      "outputs": []
    },
    {
      "cell_type": "code",
      "metadata": {
        "id": "bv0umDqzm7hG"
      },
      "source": [
        "columns = len(items.take(1)[0]) #Taking the number of columns and rows from the data"
      ],
      "execution_count": null,
      "outputs": []
    },
    {
      "cell_type": "code",
      "metadata": {
        "id": "CcA2n_Ira_sn"
      },
      "source": [
        "centroids = items.map(lambda x: [float(i) for i in x]).takeSample(False, 1) #randomly choose one point as the initial centroid\n",
        "centroids[0] = (0,centroids[0]) # adding the identification for the centroid\n",
        "k= 10\n",
        "while len(centroids) < k: # Iterates till the number of centroids is equal to 10\n",
        "  def distance(x):\n",
        "    list1 = []\n",
        "    for j in centroids: #for each point the centroids\n",
        "      count = 0\n",
        "      for i in range(0,columns): #calculates the distance between two points\n",
        "        count = count + (j[1][i]-x[1][i]) * (j[1][i]-x[1][i])\n",
        "      list1.append([j[0],count])\n",
        "    return (x[0],list1)\n",
        "  max_distance = data.map(distance).map(lambda a: (a[0], max((x for x in a[1]), key=lambda k:k[1]))).max(key = lambda x: x[1][1]) #This gives the point with maximum distance to any of the available centroids\n",
        "  new_centroid = data.filter(lambda x: x[0] == max_distance[0]).map(lambda x: (len(centroids), x[1])).collect() # This collects the new centroids from the data\n",
        "  centroids = centroids + new_centroid # add new centroids to the centroids list"
      ],
      "execution_count": null,
      "outputs": []
    },
    {
      "cell_type": "code",
      "metadata": {
        "id": "hC763WLyfUDf"
      },
      "source": [
        "centroids_list = sc.broadcast(centroids) # broadcasting the centroids list\n",
        "centroids_list_man = sc.broadcast(centroids)"
      ],
      "execution_count": null,
      "outputs": []
    },
    {
      "cell_type": "code",
      "metadata": {
        "id": "hTucII_nhoRm"
      },
      "source": [
        "with open(\"/content/gdrive/My Drive/CS5683/Kmeansplusplus_centroids.txt\", 'w') as output: # to output the centroids selected using the Kmeans++ initialization process\n",
        "    for row in centroids_list.value:\n",
        "        output.write(str(row) + '\\n')"
      ],
      "execution_count": null,
      "outputs": []
    },
    {
      "cell_type": "markdown",
      "metadata": {
        "id": "tMEtf4r1DY_Z"
      },
      "source": [
        "The process of cost function optimization is similar to the K-means from here below."
      ]
    },
    {
      "cell_type": "code",
      "metadata": {
        "id": "XzJtqPJQfXuV"
      },
      "source": [
        "def Euclidian_distance(x):\n",
        "  list1 = []\n",
        "  for j in centroids_list.value:\n",
        "    count = 0\n",
        "    for i in range(0,columns):\n",
        "      count = count + (j[1][i]-x[1][i]) * (j[1][i]-x[1][i])\n",
        "    count = count**.5 #\"{:.2f}\".format(6.737391260718053)\n",
        "    list1.append([j[0],count])\n",
        "  return (x[0],list1)"
      ],
      "execution_count": null,
      "outputs": []
    },
    {
      "cell_type": "code",
      "metadata": {
        "id": "sz2_DS_Yfdzx",
        "outputId": "c616aa4b-ad45-4993-94f6-e5fdea2c0173",
        "colab": {
          "base_uri": "https://localhost:8080/",
          "height": 357
        }
      },
      "source": [
        "maxiterations = 20\n",
        "cost_functions_eu = {}\n",
        "for i in range(0,maxiterations):\n",
        "  assigned_clusters = data.map(Euclidian_distance).map(lambda a: (a[0], min((x for x in a[1]), key=lambda k:k[1])))\n",
        "  #print(assigned_clusters.take(2))\n",
        "  cost_function_eu = assigned_clusters.map(lambda x: x[1][1]*x[1][1]).sum()\n",
        "  cost_functions_eu[i+1]  = cost_function_eu\n",
        "  #new_centroids\n",
        "  new_centroids = assigned_clusters.join(data).map(lambda x: (x[1][0][0],x[1][1])).groupByKey().map(lambda x: (x[0], list(x[1]))).map(lambda c: (c[0], [sum(col)/len(col) for col in zip(*c[1])]))\n",
        "  #print(centroids1.take(2))\n",
        "  centroids_list = sc.broadcast(new_centroids.collect())\n",
        "  print('iter #' + str(i+1) + ' : ' + str(cost_function_eu))"
      ],
      "execution_count": null,
      "outputs": [
        {
          "output_type": "stream",
          "text": [
            "iter #1 : 1481369859.6874902\n",
            "iter #2 : 944314892.8021094\n",
            "iter #3 : 708579445.1948843\n",
            "iter #4 : 612308959.8910787\n",
            "iter #5 : 567224353.4249852\n",
            "iter #6 : 552052655.4618627\n",
            "iter #7 : 547899978.9566836\n",
            "iter #8 : 542600768.7680935\n",
            "iter #9 : 541729018.7117785\n",
            "iter #10 : 541385138.6757677\n",
            "iter #11 : 541352793.5835643\n",
            "iter #12 : 541333810.2743198\n",
            "iter #13 : 541313766.2138975\n",
            "iter #14 : 541300769.0025487\n",
            "iter #15 : 541296695.7046793\n",
            "iter #16 : 541294768.3806859\n",
            "iter #17 : 541294768.3806859\n",
            "iter #18 : 541294768.3806859\n",
            "iter #19 : 541294768.3806859\n",
            "iter #20 : 541294768.3806859\n"
          ],
          "name": "stdout"
        }
      ]
    },
    {
      "cell_type": "code",
      "metadata": {
        "id": "Ra7bjWaFff0x",
        "outputId": "685bbb31-9270-4c44-917d-a096b7cc565e",
        "colab": {
          "base_uri": "https://localhost:8080/",
          "height": 34
        }
      },
      "source": [
        "perc_change = (cost_functions_eu[1]-cost_functions_eu[10])/cost_functions_eu[1]\n",
        "perc_change"
      ],
      "execution_count": null,
      "outputs": [
        {
          "output_type": "execute_result",
          "data": {
            "text/plain": [
              "0.6345374957271115"
            ]
          },
          "metadata": {
            "tags": []
          },
          "execution_count": 11
        }
      ]
    },
    {
      "cell_type": "code",
      "metadata": {
        "id": "3uwsy1OCfkhN",
        "outputId": "2937d017-041c-4b41-82b6-743d3af8bab8",
        "colab": {
          "base_uri": "https://localhost:8080/",
          "height": 312
        }
      },
      "source": [
        "plt.title('Cost Function Optimization using Euclidean Distance')\n",
        "plt.ylabel('Cost Function Value')\n",
        "plt.xlabel('Iteration')\n",
        "plt.plot(list(cost_functions_eu.keys()),list(cost_functions_eu.values()))"
      ],
      "execution_count": null,
      "outputs": [
        {
          "output_type": "execute_result",
          "data": {
            "text/plain": [
              "[<matplotlib.lines.Line2D at 0x7f6047ddf5c0>]"
            ]
          },
          "metadata": {
            "tags": []
          },
          "execution_count": 12
        },
        {
          "output_type": "display_data",
          "data": {
            "image/png": "[encoded data removed]",
            "text/plain": [
              "<Figure size 432x288 with 1 Axes>"
            ]
          },
          "metadata": {
            "tags": [],
            "needs_background": "light"
          }
        }
      ]
    },
    {
      "cell_type": "code",
      "metadata": {
        "id": "iKsIZtngfxCV"
      },
      "source": [
        "def manhattan_distance(x):\n",
        "  list1 = []\n",
        "  for j in centroids_list_man.value:\n",
        "    count = 0\n",
        "    for i in range(0,columns):\n",
        "      count = count + abs(j[1][i]-x[1][i])\n",
        "    count = count**.5 #\"{:.2f}\".format(6.737391260718053)\n",
        "    list1.append([j[0],count])\n",
        "\n",
        "  return (x[0],list1)"
      ],
      "execution_count": null,
      "outputs": []
    },
    {
      "cell_type": "code",
      "metadata": {
        "id": "uuEWYUfRfyzN",
        "outputId": "e4fe561c-6a91-4715-bf39-e631f9aca119",
        "colab": {
          "base_uri": "https://localhost:8080/",
          "height": 357
        }
      },
      "source": [
        "maxiterations = 20\n",
        "cost_functions_man = {}\n",
        "for i in range(0,maxiterations):\n",
        "  assigned_clusters_man = data.map(manhattan_distance).map(lambda a: (a[0], min((x for x in a[1]), key=lambda k:k[1])))#centroids1.cartesian(data).map(distance).groupByKey().map(lambda x: (x[0], list(x[1]))).map(lambda a: (a[0], min((x for x in a[1]), key=lambda k:k[1])))\n",
        "  #print(assigned_clusters.take(2))\n",
        "  cost_function_man = assigned_clusters_man.map(lambda x: x[1][1]*x[1][1]).sum()\n",
        "  cost_functions_man[i+1]  = cost_function_man\n",
        "  #new_centroids\n",
        "  new_centroids_man = assigned_clusters_man.join(data).map(lambda x: (x[1][0][0],x[1][1])).groupByKey().map(lambda x: (x[0], list(x[1]))).map(lambda c: (c[0], [sum(col)/len(col) for col in zip(*c[1])]))\n",
        "  #print(centroids1.take(2))\n",
        "  centroids_list_man = sc.broadcast(new_centroids_man.collect())\n",
        "  print('iter #' + str(i+1) + ' : ' + str(cost_function_man))"
      ],
      "execution_count": null,
      "outputs": [
        {
          "output_type": "stream",
          "text": [
            "iter #1 : 1222726.3519999995\n",
            "iter #2 : 1006780.4769967038\n",
            "iter #3 : 969807.3506933704\n",
            "iter #4 : 999497.3838805864\n",
            "iter #5 : 1046566.4986158977\n",
            "iter #6 : 1087600.9215269026\n",
            "iter #7 : 1114111.8295630834\n",
            "iter #8 : 1130197.6295729678\n",
            "iter #9 : 1146814.5765926572\n",
            "iter #10 : 1165782.6947791637\n",
            "iter #11 : 1173420.747853379\n",
            "iter #12 : 1179138.813758026\n",
            "iter #13 : 1182744.6729112603\n",
            "iter #14 : 1183469.97533879\n",
            "iter #15 : 1183469.97533879\n",
            "iter #16 : 1183469.97533879\n",
            "iter #17 : 1183469.97533879\n",
            "iter #18 : 1183469.97533879\n",
            "iter #19 : 1183469.97533879\n",
            "iter #20 : 1183469.97533879\n"
          ],
          "name": "stdout"
        }
      ]
    },
    {
      "cell_type": "code",
      "metadata": {
        "id": "NpmM71x1f0jt",
        "outputId": "15cf35fb-5c8e-43ac-a479-76f0c6ff3962",
        "colab": {
          "base_uri": "https://localhost:8080/",
          "height": 34
        }
      },
      "source": [
        "perc_change_man = (cost_functions_man[1]-cost_functions_man[10])/cost_functions_man[1]\n",
        "perc_change_man"
      ],
      "execution_count": null,
      "outputs": [
        {
          "output_type": "execute_result",
          "data": {
            "text/plain": [
              "0.04657105584392919"
            ]
          },
          "metadata": {
            "tags": []
          },
          "execution_count": 15
        }
      ]
    },
    {
      "cell_type": "code",
      "metadata": {
        "id": "etWlA7Qtf4JN",
        "outputId": "d7e22302-202d-4b37-e0cc-f2c5ee7ff45b",
        "colab": {
          "base_uri": "https://localhost:8080/",
          "height": 312
        }
      },
      "source": [
        "plt.title('Cost Function Optimization using Manhattan Distance')\n",
        "plt.ylabel('Cost Function Value')\n",
        "plt.xlabel('Iteration')\n",
        "plt.plot(list(cost_functions_man.keys()),list(cost_functions_man.values()))"
      ],
      "execution_count": null,
      "outputs": [
        {
          "output_type": "execute_result",
          "data": {
            "text/plain": [
              "[<matplotlib.lines.Line2D at 0x7f60466ed518>]"
            ]
          },
          "metadata": {
            "tags": []
          },
          "execution_count": 16
        },
        {
          "output_type": "display_data",
          "data": {
            "image/png": "[encoded data removed]",
            "text/plain": [
              "<Figure size 432x288 with 1 Axes>"
            ]
          },
          "metadata": {
            "tags": [],
            "needs_background": "light"
          }
        }
      ]
    },
    {
      "cell_type": "markdown",
      "metadata": {
        "id": "uluWxaktBgfU"
      },
      "source": [
        "**Reasoning for 4 and 5**\n",
        "\n",
        "\n",
        "In the K-means++ initialization method, we can notice that the cost function between euclidean distance metric and manhattan distance has a reasonable change after 10 iterations. It is noticed that euc;idean cost function has a greater improvement than the manhattan cost function that reduces the intra-cluster variance indicating better performance\n",
        "\n",
        "It is observed that using the K-means++ initialization, the manhattan and euclidean cost functions are exhibiting a greater changes in the cost function after 10 iterations when compared to K-means which reveal that there is good chance of getting to convergence (the minimum cost function) in less number of iteratons."
      ]
    }
  ]
}